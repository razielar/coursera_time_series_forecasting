{
 "cells": [
  {
   "cell_type": "markdown",
   "id": "6c6aaecf-6faf-453c-8787-68df5b615fb3",
   "metadata": {},
   "source": [
    "# SARIMA Cross-validation and GridSearch\n",
    "Feb 28th 2022"
   ]
  },
  {
   "cell_type": "code",
   "execution_count": 1,
   "id": "f74bc5e0-cfce-46d3-9e96-ead4137880f0",
   "metadata": {},
   "outputs": [
    {
     "name": "stdout",
     "output_type": "stream",
     "text": [
      "/home/razielar/miniconda3/envs/time-series/bin/python\n",
      "/home/razielar/Documents/git_rep/Machine_learning/time_series_forecasting/coursera_time_series_forecasting/time_series_analysis/week_3/2_arima_sarima_models\n"
     ]
    }
   ],
   "source": [
    "import sys\n",
    "print(sys.executable)\n",
    "import numpy as np\n",
    "import pandas as pd\n",
    "import os\n",
    "print(os.getcwd())\n",
    "from IPython.display import display\n",
    "import seaborn as sns\n",
    "import matplotlib.pyplot as plt\n",
    "import statsmodels.api as sm\n",
    "from statsmodels.tsa.statespace.sarimax import SARIMAX\n",
    "from sklearn.metrics import mean_absolute_percentage_error as mape\n",
    "import src.colorsetup\n",
    "import warnings\n",
    "warnings.filterwarnings('ignore')"
   ]
  },
  {
   "cell_type": "code",
   "execution_count": 2,
   "id": "5e9ae7dd-ea93-4b68-b851-708a2f862858",
   "metadata": {},
   "outputs": [],
   "source": [
    "def cross_validate(series, horizon, start, step_size, order= (0,0,0), seasonal_order= (0,0,0,0), trend= None):\n",
    "    '''\n",
    "    Function to determine in and out of samples for testing of ARIMA model\n",
    "    ------\n",
    "    arguments:\n",
    "        series (series): time series input\n",
    "        horizon (int): how far in advance forecast is needed\n",
    "        start (int): starting location in series\n",
    "        step_size (int): how often to recalculate forecast\n",
    "        order (tuple): (p,d,q) order of the model\n",
    "        seasonal_order (tuple): (P,D,Q,s) seasonal order of model\n",
    "    Return\n",
    "    ------\n",
    "    Dataframe: gives forecast and actuals with date of prediction\n",
    "    '''\n",
    "    fcst= []\n",
    "    actual= []\n",
    "    date= []\n",
    "    for i in range(start, len(series)- horizon, step_size):\n",
    "        print(i)\n",
    "        print(series[i])\n",
    "        print(series[:i+1])\n",
    "        model= SARIMAX(series[:i+1], order= order, seasonal_order= seasonal_order, trend= trend).fit()\n",
    "        fcst.append(model.forecast(steps= horizon)[-1])\n",
    "        actual.append(series[i+horizon])\n",
    "        date.append(series.index[i+horizon])\n",
    "    return pd.DataFrame({'forecast': fcst, 'actual': actual}, index= date)"
   ]
  },
  {
   "cell_type": "markdown",
   "id": "f4cb5f51-db0f-4461-941e-c59a7ab4bd9e",
   "metadata": {},
   "source": [
    "## Input data"
   ]
  },
  {
   "cell_type": "code",
   "execution_count": 3,
   "id": "bc93fffb-0260-4e24-886c-0b49caaf10ea",
   "metadata": {},
   "outputs": [
    {
     "name": "stdout",
     "output_type": "stream",
     "text": [
      "(792, 3)\n"
     ]
    },
    {
     "data": {
      "text/html": [
       "<div>\n",
       "<style scoped>\n",
       "    .dataframe tbody tr th:only-of-type {\n",
       "        vertical-align: middle;\n",
       "    }\n",
       "\n",
       "    .dataframe tbody tr th {\n",
       "        vertical-align: top;\n",
       "    }\n",
       "\n",
       "    .dataframe thead th {\n",
       "        text-align: right;\n",
       "    }\n",
       "</style>\n",
       "<table border=\"1\" class=\"dataframe\">\n",
       "  <thead>\n",
       "    <tr style=\"text-align: right;\">\n",
       "      <th></th>\n",
       "      <th>temp</th>\n",
       "      <th>lag_12</th>\n",
       "      <th>seasonal_diff</th>\n",
       "    </tr>\n",
       "    <tr>\n",
       "      <th>month</th>\n",
       "      <th></th>\n",
       "      <th></th>\n",
       "      <th></th>\n",
       "    </tr>\n",
       "  </thead>\n",
       "  <tbody>\n",
       "    <tr>\n",
       "      <th>1907-01-01</th>\n",
       "      <td>33.3</td>\n",
       "      <td>NaN</td>\n",
       "      <td>NaN</td>\n",
       "    </tr>\n",
       "    <tr>\n",
       "      <th>1907-02-01</th>\n",
       "      <td>46.0</td>\n",
       "      <td>NaN</td>\n",
       "      <td>NaN</td>\n",
       "    </tr>\n",
       "    <tr>\n",
       "      <th>1907-03-01</th>\n",
       "      <td>43.0</td>\n",
       "      <td>NaN</td>\n",
       "      <td>NaN</td>\n",
       "    </tr>\n",
       "    <tr>\n",
       "      <th>1907-04-01</th>\n",
       "      <td>55.0</td>\n",
       "      <td>NaN</td>\n",
       "      <td>NaN</td>\n",
       "    </tr>\n",
       "    <tr>\n",
       "      <th>1907-05-01</th>\n",
       "      <td>51.8</td>\n",
       "      <td>NaN</td>\n",
       "      <td>NaN</td>\n",
       "    </tr>\n",
       "    <tr>\n",
       "      <th>1907-06-01</th>\n",
       "      <td>57.5</td>\n",
       "      <td>NaN</td>\n",
       "      <td>NaN</td>\n",
       "    </tr>\n",
       "    <tr>\n",
       "      <th>1907-07-01</th>\n",
       "      <td>74.8</td>\n",
       "      <td>NaN</td>\n",
       "      <td>NaN</td>\n",
       "    </tr>\n",
       "    <tr>\n",
       "      <th>1907-08-01</th>\n",
       "      <td>75.6</td>\n",
       "      <td>NaN</td>\n",
       "      <td>NaN</td>\n",
       "    </tr>\n",
       "    <tr>\n",
       "      <th>1907-09-01</th>\n",
       "      <td>66.3</td>\n",
       "      <td>NaN</td>\n",
       "      <td>NaN</td>\n",
       "    </tr>\n",
       "    <tr>\n",
       "      <th>1907-10-01</th>\n",
       "      <td>46.2</td>\n",
       "      <td>NaN</td>\n",
       "      <td>NaN</td>\n",
       "    </tr>\n",
       "    <tr>\n",
       "      <th>1907-11-01</th>\n",
       "      <td>37.8</td>\n",
       "      <td>NaN</td>\n",
       "      <td>NaN</td>\n",
       "    </tr>\n",
       "    <tr>\n",
       "      <th>1907-12-01</th>\n",
       "      <td>37.6</td>\n",
       "      <td>NaN</td>\n",
       "      <td>NaN</td>\n",
       "    </tr>\n",
       "    <tr>\n",
       "      <th>1908-01-01</th>\n",
       "      <td>35.6</td>\n",
       "      <td>33.3</td>\n",
       "      <td>2.3</td>\n",
       "    </tr>\n",
       "  </tbody>\n",
       "</table>\n",
       "</div>"
      ],
      "text/plain": [
       "            temp  lag_12  seasonal_diff\n",
       "month                                  \n",
       "1907-01-01  33.3     NaN            NaN\n",
       "1907-02-01  46.0     NaN            NaN\n",
       "1907-03-01  43.0     NaN            NaN\n",
       "1907-04-01  55.0     NaN            NaN\n",
       "1907-05-01  51.8     NaN            NaN\n",
       "1907-06-01  57.5     NaN            NaN\n",
       "1907-07-01  74.8     NaN            NaN\n",
       "1907-08-01  75.6     NaN            NaN\n",
       "1907-09-01  66.3     NaN            NaN\n",
       "1907-10-01  46.2     NaN            NaN\n",
       "1907-11-01  37.8     NaN            NaN\n",
       "1907-12-01  37.6     NaN            NaN\n",
       "1908-01-01  35.6    33.3            2.3"
      ]
     },
     "execution_count": 3,
     "metadata": {},
     "output_type": "execute_result"
    }
   ],
   "source": [
    "data= \"./course_data/\"\n",
    "monthly_temp= pd.read_csv(data+\"mean-monthly-temperature-1907-19.csv\", \n",
    "                          names= [\"month\", \"temp\"], skipfooter= 2, engine= 'python',\n",
    "                          infer_datetime_format= True, header= 0, index_col= 0)\n",
    "monthly_temp.index= pd.to_datetime(monthly_temp.index)\n",
    "# 'A'= annually\n",
    "annual_temp=  monthly_temp.resample('A').mean()\n",
    "# Differencing by season:\n",
    "monthly_temp['lag_12']= monthly_temp.shift(12)\n",
    "# display(monthly_temp.head(14))\n",
    "monthly_temp['seasonal_diff']= monthly_temp.temp - monthly_temp.lag_12\n",
    "# display(monthly_temp.head(14))\n",
    "# Head\n",
    "print(monthly_temp.shape)\n",
    "monthly_temp.head(13)"
   ]
  },
  {
   "cell_type": "code",
   "execution_count": null,
   "id": "5646fd0e-e1c8-4eb6-9082-7e4a700bd53c",
   "metadata": {},
   "outputs": [],
   "source": [
    "cv1= cross_validate(series= monthly_temp.temp, horizon= 12, start= 700, step_size= 1,\n",
    "                    order= (1,0,0), seasonal_order= (0,1,1,12))"
   ]
  },
  {
   "cell_type": "code",
   "execution_count": 5,
   "id": "19cd284a-9eb2-4947-a3c8-aed98d814ad1",
   "metadata": {},
   "outputs": [
    {
     "name": "stderr",
     "output_type": "stream",
     "text": [
      " This problem is unconstrained.\n"
     ]
    },
    {
     "name": "stdout",
     "output_type": "stream",
     "text": [
      "RUNNING THE L-BFGS-B CODE\n",
      "\n",
      "           * * *\n",
      "\n",
      "Machine precision = 2.220D-16\n",
      " N =            3     M =           10\n",
      "\n",
      "At X0         0 variables are exactly at the bounds\n",
      "\n",
      "At iterate    0    f=  2.80724D+00    |proj g|=  8.49546D-02\n",
      "\n",
      "At iterate    5    f=  2.70580D+00    |proj g|=  2.17165D-02\n",
      "\n",
      "At iterate   10    f=  2.70018D+00    |proj g|=  2.23203D-04\n",
      "\n",
      "At iterate   15    f=  2.70015D+00    |proj g|=  5.59046D-06\n",
      "\n",
      "           * * *\n",
      "\n",
      "Tit   = total number of iterations\n",
      "Tnf   = total number of function evaluations\n",
      "Tnint = total number of segments explored during Cauchy searches\n",
      "Skip  = number of BFGS updates skipped\n",
      "Nact  = number of active bounds at final generalized Cauchy point\n",
      "Projg = norm of the final projected gradient\n",
      "F     = final function value\n",
      "\n",
      "           * * *\n",
      "\n",
      "   N    Tit     Tnf  Tnint  Skip  Nact     Projg        F\n",
      "    3     15     19      1     0     0   5.590D-06   2.700D+00\n",
      "  F =   2.7001548358591623     \n",
      "\n",
      "CONVERGENCE: NORM_OF_PROJECTED_GRADIENT_<=_PGTOL            \n"
     ]
    }
   ],
   "source": [
    "# Example to see CV:\n",
    "series= monthly_temp.temp\n",
    "horizon= 12\n",
    "start= 700\n",
    "step_size= 1\n",
    "order= (1,0,0)\n",
    "seasonal_order= (0,1,1,12)\n",
    "model = sm.tsa.statespace.SARIMAX(series[:701], #only using data through start of 700\n",
    "                                order= order, \n",
    "                                seasonal_order=seasonal_order, \n",
    "                                trend=None).fit()"
   ]
  },
  {
   "cell_type": "code",
   "execution_count": 6,
   "id": "ebf8a654-c3b9-4dda-838a-b79f92fc1140",
   "metadata": {},
   "outputs": [
    {
     "data": {
      "text/plain": [
       "month\n",
       "1965-01-01    32.8\n",
       "1965-02-01    37.8\n",
       "1965-03-01    42.0\n",
       "1965-04-01    49.8\n",
       "1965-05-01    54.5\n",
       "Name: temp, dtype: float64"
      ]
     },
     "execution_count": 6,
     "metadata": {},
     "output_type": "execute_result"
    }
   ],
   "source": [
    "series[:701].tail()"
   ]
  },
  {
   "cell_type": "code",
   "execution_count": 72,
   "id": "f7b4b10e-4b2d-407e-9ee7-09005e0a0090",
   "metadata": {},
   "outputs": [],
   "source": [
    "# series[712:713]"
   ]
  },
  {
   "cell_type": "code",
   "execution_count": 7,
   "id": "e13f1e18-68fc-4147-9cb5-0e96f5bac5f1",
   "metadata": {},
   "outputs": [
    {
     "data": {
      "text/plain": [
       "1965-06-01    68.457227\n",
       "1965-07-01    77.640216\n",
       "1965-08-01    75.425207\n",
       "1965-09-01    65.931723\n",
       "1965-10-01    54.278465\n",
       "1965-11-01    41.497274\n",
       "1965-12-01    34.305035\n",
       "1966-01-01    32.155464\n",
       "1966-02-01    37.677648\n",
       "1966-03-01    43.214195\n",
       "1966-04-01    51.287829\n",
       "1966-05-01    59.580987\n",
       "Freq: MS, Name: predicted_mean, dtype: float64"
      ]
     },
     "metadata": {},
     "output_type": "display_data"
    },
    {
     "data": {
      "text/plain": [
       "1966-05-01    59.580987\n",
       "Freq: MS, Name: predicted_mean, dtype: float64"
      ]
     },
     "execution_count": 7,
     "metadata": {},
     "output_type": "execute_result"
    }
   ],
   "source": [
    "display(model.forecast(12))\n",
    "model.forecast(12)[-1:]"
   ]
  },
  {
   "cell_type": "code",
   "execution_count": 8,
   "id": "fbca96c6-01c7-4082-9eaa-548cd159ffea",
   "metadata": {},
   "outputs": [
    {
     "name": "stdout",
     "output_type": "stream",
     "text": [
      "(80, 2)\n"
     ]
    },
    {
     "data": {
      "text/html": [
       "<div>\n",
       "<style scoped>\n",
       "    .dataframe tbody tr th:only-of-type {\n",
       "        vertical-align: middle;\n",
       "    }\n",
       "\n",
       "    .dataframe tbody tr th {\n",
       "        vertical-align: top;\n",
       "    }\n",
       "\n",
       "    .dataframe thead th {\n",
       "        text-align: right;\n",
       "    }\n",
       "</style>\n",
       "<table border=\"1\" class=\"dataframe\">\n",
       "  <thead>\n",
       "    <tr style=\"text-align: right;\">\n",
       "      <th></th>\n",
       "      <th>forecast</th>\n",
       "      <th>actual</th>\n",
       "    </tr>\n",
       "  </thead>\n",
       "  <tbody>\n",
       "    <tr>\n",
       "      <th>1966-05-01</th>\n",
       "      <td>59.580987</td>\n",
       "      <td>65.6</td>\n",
       "    </tr>\n",
       "    <tr>\n",
       "      <th>1966-06-01</th>\n",
       "      <td>69.332686</td>\n",
       "      <td>69.7</td>\n",
       "    </tr>\n",
       "    <tr>\n",
       "      <th>1966-07-01</th>\n",
       "      <td>77.738399</td>\n",
       "      <td>77.5</td>\n",
       "    </tr>\n",
       "    <tr>\n",
       "      <th>1966-08-01</th>\n",
       "      <td>75.351410</td>\n",
       "      <td>75.8</td>\n",
       "    </tr>\n",
       "    <tr>\n",
       "      <th>1966-09-01</th>\n",
       "      <td>65.747208</td>\n",
       "      <td>65.1</td>\n",
       "    </tr>\n",
       "  </tbody>\n",
       "</table>\n",
       "</div>"
      ],
      "text/plain": [
       "             forecast  actual\n",
       "1966-05-01  59.580987    65.6\n",
       "1966-06-01  69.332686    69.7\n",
       "1966-07-01  77.738399    77.5\n",
       "1966-08-01  75.351410    75.8\n",
       "1966-09-01  65.747208    65.1"
      ]
     },
     "execution_count": 8,
     "metadata": {},
     "output_type": "execute_result"
    }
   ],
   "source": [
    "print(cv1.shape)\n",
    "cv1.head()"
   ]
  },
  {
   "cell_type": "code",
   "execution_count": 9,
   "id": "709aca86-267c-4d75-a23a-52fffac98bb6",
   "metadata": {},
   "outputs": [
    {
     "name": "stdout",
     "output_type": "stream",
     "text": [
      "MAPE: 0.0526\n"
     ]
    },
    {
     "data": {
      "image/png": "[encoded data removed]",
      "text/plain": [
       "<Figure size 936x360 with 1 Axes>"
      ]
     },
     "metadata": {
      "needs_background": "light"
     },
     "output_type": "display_data"
    }
   ],
   "source": [
    "print(\"MAPE: {:.4f}\".format(mape(cv1.actual, cv1.forecast)))\n",
    "cv1.plot()\n",
    "plt.show()"
   ]
  },
  {
   "cell_type": "code",
   "execution_count": 110,
   "id": "012087a5-b859-4880-a7dc-29fccec6cc90",
   "metadata": {},
   "outputs": [],
   "source": [
    "# def mape(df_cv):\n",
    "#     \"\"\"\n",
    "#     MAPE: mean absolute percentage error\n",
    "#     \"\"\"\n",
    "#     # return abs(df_cv.actual - df_cv.forecast).sum() / df_cv.actual.sum()\n",
    "#     return abs((df_cv.actual - df_cv.forecast)/df_cv.actual).sum() / len(df_cv)"
   ]
  },
  {
   "cell_type": "code",
   "execution_count": null,
   "id": "4636193c-2756-45f5-9495-c098544dd98a",
   "metadata": {},
   "outputs": [],
   "source": [
    "# series= monthly_temp.temp\n",
    "# horizon= 12\n",
    "# start= 700\n",
    "# step_size= 1\n",
    "# order= (1,0,0)\n",
    "# seasonal_order= (0,1,1,12)\n",
    "\n",
    "series = monthly_temp.temp\n",
    "horizon = 12\n",
    "start = 700\n",
    "step_size = 1\n",
    "order = (1,1,0)\n",
    "seasonal_order = (0,1,1,12)\n",
    "\n",
    "\n",
    "cv2= cross_validate(series= series, horizon= horizon, start= 700, step_size= step_size, \n",
    "                    order= order, seasonal_order= seasonal_order)"
   ]
  },
  {
   "cell_type": "code",
   "execution_count": 11,
   "id": "2fc9c0cc-1da8-4478-9ed5-3f55c7e83359",
   "metadata": {},
   "outputs": [
    {
     "name": "stdout",
     "output_type": "stream",
     "text": [
      "MAPE: 0.0664\n"
     ]
    },
    {
     "data": {
      "image/png": "[encoded data removed]",
      "text/plain": [
       "<Figure size 936x360 with 1 Axes>"
      ]
     },
     "metadata": {
      "needs_background": "light"
     },
     "output_type": "display_data"
    }
   ],
   "source": [
    "print(\"MAPE: {:.4f}\".format(mape(cv2.actual, cv2.forecast)))\n",
    "cv2.plot()\n",
    "plt.show()"
   ]
  },
  {
   "cell_type": "code",
   "execution_count": 12,
   "id": "f45b06a2-984a-4c44-8b7c-606dc7af5754",
   "metadata": {},
   "outputs": [],
   "source": [
    "def mape(df_cv):\n",
    "    \"\"\"\n",
    "    MAPE: mean absolute percentage error\n",
    "    \"\"\"\n",
    "    # return abs(df_cv.actual - df_cv.forecast).sum() / df_cv.actual.sum()\n",
    "    return abs((df_cv.actual - df_cv.forecast)/df_cv.actual).sum() / len(df_cv)\n",
    "\n",
    "def cross_validate(series, horizon, start, step_size, order= (0,0,0), seasonal_order= (0,0,0,0), trend= None):\n",
    "    '''\n",
    "    Function to determine in and out of samples for testing of ARIMA model\n",
    "    ------\n",
    "    arguments:\n",
    "        series (series): time series input\n",
    "        horizon (int): how far in advance forecast is needed\n",
    "        start (int): starting location in series\n",
    "        step_size (int): how often to recalculate forecast\n",
    "        order (tuple): (p,d,q) order of the model\n",
    "        seasonal_order (tuple): (P,D,Q,s) seasonal order of model\n",
    "    Return\n",
    "    ------\n",
    "    Dataframe: gives forecast and actuals with date of prediction\n",
    "    '''\n",
    "    fcst= []\n",
    "    actual= []\n",
    "    date= []\n",
    "    for i in range(start, len(series)- horizon, step_size):\n",
    "        # print(i)\n",
    "        # print(series[i])\n",
    "        # print(series[:i+1])\n",
    "        model= SARIMAX(series[:i+1], order= order, seasonal_order= seasonal_order, trend= trend).fit()\n",
    "        fcst.append(model.forecast(steps= horizon)[-1])\n",
    "        actual.append(series[i+horizon])\n",
    "        date.append(series.index[i+horizon])\n",
    "    return pd.DataFrame({'forecast': fcst, 'actual': actual}, index= date)\n",
    "\n",
    "def grid_search_ARIMA(series, horizon, start, step_size, orders= [(1,0,0)], seasonal_orders= [(0,0,0,0)], trends= [None]):\n",
    "    best_mape = np.inf\n",
    "    best_order = None\n",
    "    best_seasonal_order = None\n",
    "    best_trend = None\n",
    "    for order_ in orders:\n",
    "        for seasonal_order_ in seasonal_orders:\n",
    "            for trend_ in trends:\n",
    "                cv = cross_validate(series,\n",
    "                                    horizon,\n",
    "                                    start,\n",
    "                                    step_size,\n",
    "                                    order = order_,\n",
    "                                    seasonal_order = seasonal_order_,\n",
    "                                    trend=trend_)\n",
    "                if mape(cv)<best_mape:\n",
    "                    best_mape = mape(cv)\n",
    "                    best_order = order_\n",
    "                    best_seasonal_order = seasonal_order_\n",
    "                    best_trend = trend_\n",
    "    return (best_order,best_seasonal_order, best_trend, np.round(best_mape, 6))"
   ]
  },
  {
   "cell_type": "code",
   "execution_count": null,
   "id": "de2a2a71-c68f-4cfe-8ea5-401731a36c11",
   "metadata": {},
   "outputs": [],
   "source": [
    "series = monthly_temp.temp\n",
    "horizon = 12\n",
    "start = 760\n",
    "step_size = 3\n",
    "orders = [(1,1,0),(1,0,0)]\n",
    "seasonal_orders = [(0,1,1,12)]\n",
    "trends = [None,'c']\n",
    "\n",
    "GridCV= grid_search_ARIMA(series = series,\n",
    "                  horizon = horizon,\n",
    "                  start = start,\n",
    "                  step_size = step_size,\n",
    "                  orders = orders,\n",
    "                  seasonal_orders = seasonal_orders,\n",
    "                  trends=trends)"
   ]
  },
  {
   "cell_type": "code",
   "execution_count": 14,
   "id": "015f57b9-9be3-42bf-9f27-12a8090e92c0",
   "metadata": {},
   "outputs": [
    {
     "data": {
      "text/plain": [
       "((1, 0, 0), (0, 1, 1, 12), None, 0.035878)"
      ]
     },
     "execution_count": 14,
     "metadata": {},
     "output_type": "execute_result"
    }
   ],
   "source": [
    "GridCV"
   ]
  },
  {
   "cell_type": "code",
   "execution_count": 15,
   "id": "4c2ff95e-4e46-41d1-820d-d783f68ffea0",
   "metadata": {},
   "outputs": [
    {
     "data": {
      "text/html": [
       "<details>\n",
       "<summary>Click to view session information</summary>\n",
       "<pre>\n",
       "-----\n",
       "matplotlib          3.5.1\n",
       "numpy               1.22.2\n",
       "pandas              1.4.1\n",
       "seaborn             0.11.2\n",
       "session_info        1.0.0\n",
       "src                 NA\n",
       "statsmodels         0.13.2\n",
       "-----\n",
       "</pre>\n",
       "<details>\n",
       "<summary>Click to view modules imported as dependencies</summary>\n",
       "<pre>\n",
       "PIL                         9.0.1\n",
       "asttokens                   NA\n",
       "backcall                    0.2.0\n",
       "beta_ufunc                  NA\n",
       "binom_ufunc                 NA\n",
       "cffi                        1.15.0\n",
       "colorama                    0.4.4\n",
       "cycler                      0.10.0\n",
       "cython_runtime              NA\n",
       "dateutil                    2.8.2\n",
       "debugpy                     1.5.1\n",
       "decorator                   5.1.1\n",
       "defusedxml                  0.7.1\n",
       "entrypoints                 0.4\n",
       "executing                   0.8.2\n",
       "google                      NA\n",
       "hypergeom_ufunc             NA\n",
       "ipykernel                   6.9.1\n",
       "ipython_genutils            0.2.0\n",
       "ipywidgets                  7.6.5\n",
       "jedi                        0.17.2\n",
       "joblib                      1.1.0\n",
       "jupyter_server              1.13.5\n",
       "kiwisolver                  1.3.2\n",
       "matplotlib_inline           NA\n",
       "mpl_toolkits                NA\n",
       "nbinom_ufunc                NA\n",
       "packaging                   21.3\n",
       "parso                       0.7.1\n",
       "patsy                       0.5.2\n",
       "pexpect                     4.8.0\n",
       "pickleshare                 0.7.5\n",
       "pkg_resources               NA\n",
       "prompt_toolkit              3.0.28\n",
       "ptyprocess                  0.7.0\n",
       "pure_eval                   0.2.2\n",
       "pydev_ipython               NA\n",
       "pydevconsole                NA\n",
       "pydevd                      2.6.0\n",
       "pydevd_concurrency_analyser NA\n",
       "pydevd_file_utils           NA\n",
       "pydevd_plugins              NA\n",
       "pydevd_tracing              NA\n",
       "pygments                    2.11.2\n",
       "pyparsing                   2.4.7\n",
       "pytz                        2021.3\n",
       "scipy                       1.8.0\n",
       "six                         1.16.0\n",
       "sklearn                     1.0.2\n",
       "stack_data                  0.2.0\n",
       "threadpoolctl               3.1.0\n",
       "tornado                     6.1\n",
       "traitlets                   5.1.1\n",
       "typing_extensions           NA\n",
       "wcwidth                     0.2.5\n",
       "zmq                         22.3.0\n",
       "</pre>\n",
       "</details> <!-- seems like this ends pre, so might as well be explicit -->\n",
       "<pre>\n",
       "-----\n",
       "IPython             8.0.1\n",
       "jupyter_client      7.1.2\n",
       "jupyter_core        4.9.1\n",
       "jupyterlab          3.2.9\n",
       "notebook            6.4.8\n",
       "-----\n",
       "Python 3.8.12 (default, Oct 12 2021, 13:49:34) [GCC 7.5.0]\n",
       "Linux-5.16.11-76051611-generic-x86_64-with-glibc2.17\n",
       "-----\n",
       "Session information updated at 2022-03-07 11:47\n",
       "</pre>\n",
       "</details>"
      ],
      "text/plain": [
       "<IPython.core.display.HTML object>"
      ]
     },
     "execution_count": 15,
     "metadata": {},
     "output_type": "execute_result"
    }
   ],
   "source": [
    "import session_info\n",
    "session_info.show()"
   ]
  },
  {
   "cell_type": "code",
   "execution_count": null,
   "id": "1676ba22-858d-4672-874b-f940c758f930",
   "metadata": {},
   "outputs": [],
   "source": []
  },
  {
   "cell_type": "code",
   "execution_count": null,
   "id": "d0fdfe4e-ed99-49a2-acc6-0b651400cc7c",
   "metadata": {},
   "outputs": [],
   "source": []
  }
 ],
 "metadata": {
  "kernelspec": {
   "display_name": "Python 3 (ipykernel)",
   "language": "python",
   "name": "python3"
  },
  "language_info": {
   "codemirror_mode": {
    "name": "ipython",
    "version": 3
   },
   "file_extension": ".py",
   "mimetype": "text/x-python",
   "name": "python",
   "nbconvert_exporter": "python",
   "pygments_lexer": "ipython3",
   "version": "3.8.12"
  }
 },
 "nbformat": 4,
 "nbformat_minor": 5
}
