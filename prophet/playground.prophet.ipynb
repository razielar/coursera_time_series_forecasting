{
 "cells": [
  {
   "cell_type": "markdown",
   "id": "prompt-counter",
   "metadata": {},
   "source": [
    "# Trying Prophet for time series forecasting\n",
    "Material obtained from [here](https://www.youtube.com/watch?v=KvLG1uTC-KU)   \n",
    "Nov 30th 2021"
   ]
  },
  {
   "cell_type": "code",
   "execution_count": 7,
   "id": "psychological-norfolk",
   "metadata": {},
   "outputs": [
    {
     "name": "stdout",
     "output_type": "stream",
     "text": [
      "/home/razielar/miniconda3/envs/ml/bin/python\n"
     ]
    }
   ],
   "source": [
    "import os\n",
    "import sys\n",
    "import pandas as pd\n",
    "from prophet import Prophet\n",
    "print(sys.executable)"
   ]
  },
  {
   "cell_type": "markdown",
   "id": "hindu-battlefield",
   "metadata": {},
   "source": [
    "## Read data"
   ]
  },
  {
   "cell_type": "code",
   "execution_count": 16,
   "id": "printable-dairy",
   "metadata": {},
   "outputs": [
    {
     "name": "stdout",
     "output_type": "stream",
     "text": [
      "(1080, 4)\n"
     ]
    },
    {
     "data": {
      "text/html": [
       "<div>\n",
       "<style scoped>\n",
       "    .dataframe tbody tr th:only-of-type {\n",
       "        vertical-align: middle;\n",
       "    }\n",
       "\n",
       "    .dataframe tbody tr th {\n",
       "        vertical-align: top;\n",
       "    }\n",
       "\n",
       "    .dataframe thead th {\n",
       "        text-align: right;\n",
       "    }\n",
       "</style>\n",
       "<table border=\"1\" class=\"dataframe\">\n",
       "  <thead>\n",
       "    <tr style=\"text-align: right;\">\n",
       "      <th></th>\n",
       "      <th>Time Date</th>\n",
       "      <th>Product</th>\n",
       "      <th>Store</th>\n",
       "      <th>Value</th>\n",
       "    </tr>\n",
       "  </thead>\n",
       "  <tbody>\n",
       "    <tr>\n",
       "      <th>0</th>\n",
       "      <td>1012018</td>\n",
       "      <td>2667437</td>\n",
       "      <td>QLD_CW_ST0203</td>\n",
       "      <td>2926.000</td>\n",
       "    </tr>\n",
       "    <tr>\n",
       "      <th>1</th>\n",
       "      <td>2012018</td>\n",
       "      <td>2667437</td>\n",
       "      <td>QLD_CW_ST0203</td>\n",
       "      <td>2687.531</td>\n",
       "    </tr>\n",
       "    <tr>\n",
       "      <th>2</th>\n",
       "      <td>3012018</td>\n",
       "      <td>2667437</td>\n",
       "      <td>QLD_CW_ST0203</td>\n",
       "      <td>2793.000</td>\n",
       "    </tr>\n",
       "    <tr>\n",
       "      <th>3</th>\n",
       "      <td>4012018</td>\n",
       "      <td>2667437</td>\n",
       "      <td>QLD_CW_ST0203</td>\n",
       "      <td>2394.000</td>\n",
       "    </tr>\n",
       "    <tr>\n",
       "      <th>4</th>\n",
       "      <td>5012018</td>\n",
       "      <td>2667437</td>\n",
       "      <td>QLD_CW_ST0203</td>\n",
       "      <td>2660.000</td>\n",
       "    </tr>\n",
       "  </tbody>\n",
       "</table>\n",
       "</div>"
      ],
      "text/plain": [
       "   Time Date  Product          Store     Value\n",
       "0    1012018  2667437  QLD_CW_ST0203  2926.000\n",
       "1    2012018  2667437  QLD_CW_ST0203  2687.531\n",
       "2    3012018  2667437  QLD_CW_ST0203  2793.000\n",
       "3    4012018  2667437  QLD_CW_ST0203  2394.000\n",
       "4    5012018  2667437  QLD_CW_ST0203  2660.000"
      ]
     },
     "execution_count": 16,
     "metadata": {},
     "output_type": "execute_result"
    }
   ],
   "source": [
    "df= pd.read_csv(\"dataset/dataset.csv\")\n",
    "print(df.shape)\n",
    "df.head()"
   ]
  },
  {
   "cell_type": "code",
   "execution_count": 18,
   "id": "sitting-couple",
   "metadata": {},
   "outputs": [
    {
     "name": "stdout",
     "output_type": "stream",
     "text": [
      "[2667437]\n",
      "['QLD_CW_ST0203']\n"
     ]
    }
   ],
   "source": [
    "print(df[\"Product\"].unique())\n",
    "print(df[\"Store\"].uniquee())"
   ]
  },
  {
   "cell_type": "code",
   "execution_count": 19,
   "id": "affected-trick",
   "metadata": {},
   "outputs": [
    {
     "data": {
      "text/plain": [
       "Time Date      int64\n",
       "Product        int64\n",
       "Store         object\n",
       "Value        float64\n",
       "dtype: object"
      ]
     },
     "execution_count": 19,
     "metadata": {},
     "output_type": "execute_result"
    }
   ],
   "source": [
    "df.dtypes"
   ]
  },
  {
   "cell_type": "code",
   "execution_count": 33,
   "id": "marine-satellite",
   "metadata": {},
   "outputs": [],
   "source": [
    "df[\"Year\"]= df[\"Time Date\"].apply(lambda x: str(x)[-4:])\n",
    "df[\"Month\"]= df[\"Time Date\"].apply(lambda x: str(x)[-6:-4])\n",
    "df[\"Day\"]= df[\"Time Date\"].apply(lambda x: str(x)[:-6])\n",
    "df[\"ds\"]= pd.DatetimeIndex(df[\"Year\"] + \"-\" + df[\"Month\"] + \"-\" + df[\"Day\"])"
   ]
  },
  {
   "cell_type": "code",
   "execution_count": 34,
   "id": "perceived-wrist",
   "metadata": {},
   "outputs": [
    {
     "data": {
      "text/html": [
       "<div>\n",
       "<style scoped>\n",
       "    .dataframe tbody tr th:only-of-type {\n",
       "        vertical-align: middle;\n",
       "    }\n",
       "\n",
       "    .dataframe tbody tr th {\n",
       "        vertical-align: top;\n",
       "    }\n",
       "\n",
       "    .dataframe thead th {\n",
       "        text-align: right;\n",
       "    }\n",
       "</style>\n",
       "<table border=\"1\" class=\"dataframe\">\n",
       "  <thead>\n",
       "    <tr style=\"text-align: right;\">\n",
       "      <th></th>\n",
       "      <th>Time Date</th>\n",
       "      <th>Product</th>\n",
       "      <th>Store</th>\n",
       "      <th>Value</th>\n",
       "      <th>Year</th>\n",
       "      <th>Month</th>\n",
       "      <th>Day</th>\n",
       "      <th>ds</th>\n",
       "    </tr>\n",
       "  </thead>\n",
       "  <tbody>\n",
       "    <tr>\n",
       "      <th>0</th>\n",
       "      <td>1012018</td>\n",
       "      <td>2667437</td>\n",
       "      <td>QLD_CW_ST0203</td>\n",
       "      <td>2926.000</td>\n",
       "      <td>2018</td>\n",
       "      <td>01</td>\n",
       "      <td>1</td>\n",
       "      <td>2018-01-01</td>\n",
       "    </tr>\n",
       "    <tr>\n",
       "      <th>1</th>\n",
       "      <td>2012018</td>\n",
       "      <td>2667437</td>\n",
       "      <td>QLD_CW_ST0203</td>\n",
       "      <td>2687.531</td>\n",
       "      <td>2018</td>\n",
       "      <td>01</td>\n",
       "      <td>2</td>\n",
       "      <td>2018-01-02</td>\n",
       "    </tr>\n",
       "    <tr>\n",
       "      <th>2</th>\n",
       "      <td>3012018</td>\n",
       "      <td>2667437</td>\n",
       "      <td>QLD_CW_ST0203</td>\n",
       "      <td>2793.000</td>\n",
       "      <td>2018</td>\n",
       "      <td>01</td>\n",
       "      <td>3</td>\n",
       "      <td>2018-01-03</td>\n",
       "    </tr>\n",
       "    <tr>\n",
       "      <th>3</th>\n",
       "      <td>4012018</td>\n",
       "      <td>2667437</td>\n",
       "      <td>QLD_CW_ST0203</td>\n",
       "      <td>2394.000</td>\n",
       "      <td>2018</td>\n",
       "      <td>01</td>\n",
       "      <td>4</td>\n",
       "      <td>2018-01-04</td>\n",
       "    </tr>\n",
       "    <tr>\n",
       "      <th>4</th>\n",
       "      <td>5012018</td>\n",
       "      <td>2667437</td>\n",
       "      <td>QLD_CW_ST0203</td>\n",
       "      <td>2660.000</td>\n",
       "      <td>2018</td>\n",
       "      <td>01</td>\n",
       "      <td>5</td>\n",
       "      <td>2018-01-05</td>\n",
       "    </tr>\n",
       "  </tbody>\n",
       "</table>\n",
       "</div>"
      ],
      "text/plain": [
       "   Time Date  Product          Store     Value  Year Month Day         ds\n",
       "0    1012018  2667437  QLD_CW_ST0203  2926.000  2018    01   1 2018-01-01\n",
       "1    2012018  2667437  QLD_CW_ST0203  2687.531  2018    01   2 2018-01-02\n",
       "2    3012018  2667437  QLD_CW_ST0203  2793.000  2018    01   3 2018-01-03\n",
       "3    4012018  2667437  QLD_CW_ST0203  2394.000  2018    01   4 2018-01-04\n",
       "4    5012018  2667437  QLD_CW_ST0203  2660.000  2018    01   5 2018-01-05"
      ]
     },
     "execution_count": 34,
     "metadata": {},
     "output_type": "execute_result"
    }
   ],
   "source": [
    "df.head()"
   ]
  },
  {
   "cell_type": "code",
   "execution_count": 35,
   "id": "banned-secondary",
   "metadata": {},
   "outputs": [
    {
     "data": {
      "text/plain": [
       "Time Date             int64\n",
       "Product               int64\n",
       "Store                object\n",
       "Value               float64\n",
       "Year                 object\n",
       "Month                object\n",
       "Day                  object\n",
       "ds           datetime64[ns]\n",
       "dtype: object"
      ]
     },
     "execution_count": 35,
     "metadata": {},
     "output_type": "execute_result"
    }
   ],
   "source": [
    "df.dtypes"
   ]
  },
  {
   "cell_type": "code",
   "execution_count": null,
   "id": "golden-cinema",
   "metadata": {},
   "outputs": [],
   "source": []
  },
  {
   "cell_type": "code",
   "execution_count": null,
   "id": "english-causing",
   "metadata": {},
   "outputs": [],
   "source": []
  },
  {
   "cell_type": "code",
   "execution_count": null,
   "id": "express-cradle",
   "metadata": {},
   "outputs": [],
   "source": []
  },
  {
   "cell_type": "code",
   "execution_count": null,
   "id": "derived-stand",
   "metadata": {},
   "outputs": [],
   "source": []
  }
 ],
 "metadata": {
  "kernelspec": {
   "display_name": "Python 3",
   "language": "python",
   "name": "python3"
  },
  "language_info": {
   "codemirror_mode": {
    "name": "ipython",
    "version": 3
   },
   "file_extension": ".py",
   "mimetype": "text/x-python",
   "name": "python",
   "nbconvert_exporter": "python",
   "pygments_lexer": "ipython3",
   "version": "3.8.5"
  }
 },
 "nbformat": 4,
 "nbformat_minor": 5
}
