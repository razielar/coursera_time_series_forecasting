{
 "cells": [
  {
   "cell_type": "markdown",
   "id": "e007396c-5cd8-4bcf-bf89-356492a965cf",
   "metadata": {},
   "source": [
    "# Anomaly Detection using STL\n",
    "Sources: [GitHub repo](https://github.com/ritvikmath/Time-Series-Analysis/blob/master/STL%20Decomposition.ipynb) and [YouTube video](https://www.youtube.com/watch?v=1NXryMoU7Ho&list=LL&index=10)    \n",
    "Feb 17th 2023"
   ]
  },
  {
   "cell_type": "code",
   "execution_count": 6,
   "id": "77d9e34b-035d-4acd-bc57-e1f9566c1354",
   "metadata": {},
   "outputs": [],
   "source": [
    "import os\n",
    "from datetime import datetime\n",
    "from statsmodels.tsa.seasonal import STL\n",
    "import pandas as pd\n",
    "import numpy as np\n",
    "import seaborn as sns\n",
    "import matplotlib.pyplot as plt"
   ]
  },
  {
   "cell_type": "code",
   "execution_count": 7,
   "id": "8ab7d58a-b86d-4c3b-92b2-0b0324f887f2",
   "metadata": {},
   "outputs": [],
   "source": [
    "# Plot configs:\n",
    "sns.set_context(\"paper\", font_scale= 1.5)\n",
    "plt.rcParams['axes.spines.right']= False\n",
    "plt.rcParams['axes.spines.top']= False\n",
    "plotsize = (22, 5)\n",
    "plt.rcParams['figure.figsize']= plotsize\n",
    "# Pandas config\n",
    "pd.options.display.float_format= '{:,.4f}'.format"
   ]
  },
  {
   "cell_type": "code",
   "execution_count": 8,
   "id": "7904f2d5-c3a5-45ef-ad28-6b30ca52cd95",
   "metadata": {},
   "outputs": [
    {
     "name": "stdout",
     "output_type": "stream",
     "text": [
      "/home/razielar/Documents/git_rep/Machine_learning/time_series_forecasting/coursera_time_series_forecasting/anomaly_detection\n"
     ]
    }
   ],
   "source": [
    "print(os.getcwd())"
   ]
  },
  {
   "cell_type": "markdown",
   "id": "cd369dff-354f-4474-b49a-30e65132a514",
   "metadata": {},
   "source": [
    "## 1) Input Data"
   ]
  },
  {
   "cell_type": "code",
   "execution_count": 13,
   "id": "5313fb3d-338e-4bbe-b15c-ff74a096a74f",
   "metadata": {},
   "outputs": [
    {
     "data": {
      "text/html": [
       "<div>\n",
       "<style scoped>\n",
       "    .dataframe tbody tr th:only-of-type {\n",
       "        vertical-align: middle;\n",
       "    }\n",
       "\n",
       "    .dataframe tbody tr th {\n",
       "        vertical-align: top;\n",
       "    }\n",
       "\n",
       "    .dataframe thead th {\n",
       "        text-align: right;\n",
       "    }\n",
       "</style>\n",
       "<table border=\"1\" class=\"dataframe\">\n",
       "  <thead>\n",
       "    <tr style=\"text-align: right;\">\n",
       "      <th></th>\n",
       "      <th>month</th>\n",
       "      <th>interest</th>\n",
       "    </tr>\n",
       "  </thead>\n",
       "  <tbody>\n",
       "    <tr>\n",
       "      <th>0</th>\n",
       "      <td>2004-01-01</td>\n",
       "      <td>13</td>\n",
       "    </tr>\n",
       "    <tr>\n",
       "      <th>1</th>\n",
       "      <td>2004-02-01</td>\n",
       "      <td>15</td>\n",
       "    </tr>\n",
       "    <tr>\n",
       "      <th>2</th>\n",
       "      <td>2004-03-01</td>\n",
       "      <td>17</td>\n",
       "    </tr>\n",
       "    <tr>\n",
       "      <th>3</th>\n",
       "      <td>2004-04-01</td>\n",
       "      <td>19</td>\n",
       "    </tr>\n",
       "    <tr>\n",
       "      <th>4</th>\n",
       "      <td>2004-05-01</td>\n",
       "      <td>22</td>\n",
       "    </tr>\n",
       "    <tr>\n",
       "      <th>...</th>\n",
       "      <td>...</td>\n",
       "      <td>...</td>\n",
       "    </tr>\n",
       "    <tr>\n",
       "      <th>195</th>\n",
       "      <td>2020-04-01</td>\n",
       "      <td>55</td>\n",
       "    </tr>\n",
       "    <tr>\n",
       "      <th>196</th>\n",
       "      <td>2020-05-01</td>\n",
       "      <td>71</td>\n",
       "    </tr>\n",
       "    <tr>\n",
       "      <th>197</th>\n",
       "      <td>2020-06-01</td>\n",
       "      <td>81</td>\n",
       "    </tr>\n",
       "    <tr>\n",
       "      <th>198</th>\n",
       "      <td>2020-07-01</td>\n",
       "      <td>90</td>\n",
       "    </tr>\n",
       "    <tr>\n",
       "      <th>199</th>\n",
       "      <td>2020-08-01</td>\n",
       "      <td>76</td>\n",
       "    </tr>\n",
       "  </tbody>\n",
       "</table>\n",
       "<p>200 rows × 2 columns</p>\n",
       "</div>"
      ],
      "text/plain": [
       "         month  interest\n",
       "0   2004-01-01        13\n",
       "1   2004-02-01        15\n",
       "2   2004-03-01        17\n",
       "3   2004-04-01        19\n",
       "4   2004-05-01        22\n",
       "..         ...       ...\n",
       "195 2020-04-01        55\n",
       "196 2020-05-01        71\n",
       "197 2020-06-01        81\n",
       "198 2020-07-01        90\n",
       "199 2020-08-01        76\n",
       "\n",
       "[200 rows x 2 columns]"
      ]
     },
     "execution_count": 13,
     "metadata": {},
     "output_type": "execute_result"
    }
   ],
   "source": [
    "filePath = \"data/ice_cream_interest.csv\"\n",
    "df = pd.read_csv(filePath, parse_dates= [\"month\"])\n",
    "df"
   ]
  },
  {
   "cell_type": "code",
   "execution_count": 14,
   "id": "69664b0f-22bd-4875-8cca-20d2689578f6",
   "metadata": {},
   "outputs": [
    {
     "name": "stdout",
     "output_type": "stream",
     "text": [
      "<class 'pandas.core.frame.DataFrame'>\n",
      "RangeIndex: 200 entries, 0 to 199\n",
      "Data columns (total 2 columns):\n",
      " #   Column    Non-Null Count  Dtype         \n",
      "---  ------    --------------  -----         \n",
      " 0   month     200 non-null    datetime64[ns]\n",
      " 1   interest  200 non-null    int64         \n",
      "dtypes: datetime64[ns](1), int64(1)\n",
      "memory usage: 3.2 KB\n"
     ]
    }
   ],
   "source": [
    "df.info()"
   ]
  }
 ],
 "metadata": {
  "kernelspec": {
   "display_name": "Python 3 (ipykernel)",
   "language": "python",
   "name": "python3"
  },
  "language_info": {
   "codemirror_mode": {
    "name": "ipython",
    "version": 3
   },
   "file_extension": ".py",
   "mimetype": "text/x-python",
   "name": "python",
   "nbconvert_exporter": "python",
   "pygments_lexer": "ipython3",
   "version": "3.8.12"
  }
 },
 "nbformat": 4,
 "nbformat_minor": 5
}
