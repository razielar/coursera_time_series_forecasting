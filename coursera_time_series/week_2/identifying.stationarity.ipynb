{
 "cells": [
  {
   "cell_type": "markdown",
   "id": "8699eaa9-2407-41fa-b2f8-7a546c45666f",
   "metadata": {},
   "source": [
    "# Identifying Stationarity\n",
    "Feb 21st 2022"
   ]
  },
  {
   "cell_type": "code",
   "execution_count": 2,
   "id": "ef065b22-8039-467c-a90c-fcb0f185e896",
   "metadata": {},
   "outputs": [
    {
     "name": "stdout",
     "output_type": "stream",
     "text": [
      "/home/razielar/miniconda3/envs/time-series/bin/python\n",
      "/home/razielar/Documents/git_rep/Machine_learning/time_series_forecasting/coursera_time_series/week_2\n"
     ]
    }
   ],
   "source": [
    "import sys\n",
    "print(sys.executable)\n",
    "import numpy as np\n",
    "import pandas as pd\n",
    "import os\n",
    "print(os.getcwd())\n",
    "import matplotlib.pyplot as plt\n",
    "# %matplotlib inline\n",
    "import seaborn as sns\n",
    "from IPython.display import display\n",
    "# Config:\n",
    "pd.options.display.float_format = '{:,.2f}'.format\n",
    "sns.set_context(\"paper\", font_scale= 1.5)\n",
    "plt.rcParams['axes.spines.right']= False\n",
    "plt.rcParams['axes.spines.top']= False\n",
    "plotsize = (13, 5)\n",
    "plt.rcParams['figure.figsize']= plotsize\n",
    "from src.timeseriesFunctions import plot_time_series"
   ]
  },
  {
   "cell_type": "code",
   "execution_count": null,
   "id": "4440a6a1-1c4a-4216-ae91-17f56c608077",
   "metadata": {},
   "outputs": [],
   "source": []
  },
  {
   "cell_type": "code",
   "execution_count": null,
   "id": "5f8220f1-ed98-4ada-8628-3f8e8332496c",
   "metadata": {},
   "outputs": [],
   "source": []
  }
 ],
 "metadata": {
  "kernelspec": {
   "display_name": "Python 3 (ipykernel)",
   "language": "python",
   "name": "python3"
  },
  "language_info": {
   "codemirror_mode": {
    "name": "ipython",
    "version": 3
   },
   "file_extension": ".py",
   "mimetype": "text/x-python",
   "name": "python",
   "nbconvert_exporter": "python",
   "pygments_lexer": "ipython3",
   "version": "3.8.12"
  }
 },
 "nbformat": 4,
 "nbformat_minor": 5
}
