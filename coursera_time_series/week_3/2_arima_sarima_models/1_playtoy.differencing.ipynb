{
 "cells": [
  {
   "cell_type": "markdown",
   "id": "3c4fa201-c156-4abc-931b-2ed08a848e56",
   "metadata": {},
   "source": [
    "# Playground to understand Differencing\n",
    "Feb 24th 2022"
   ]
  },
  {
   "cell_type": "code",
   "execution_count": 1,
   "id": "94db4514-e2cf-4007-9652-1a0c8262bcfb",
   "metadata": {},
   "outputs": [
    {
     "name": "stdout",
     "output_type": "stream",
     "text": [
      "/home/razielar/miniconda3/envs/time-series/bin/python\n",
      "/home/razielar/Documents/git_rep/Machine_learning/time_series_forecasting/coursera_time_series/week_3/2_arima_sarima_models\n"
     ]
    }
   ],
   "source": [
    "import sys\n",
    "print(sys.executable)\n",
    "import numpy as np\n",
    "import pandas as pd\n",
    "import os\n",
    "print(os.getcwd())\n",
    "from IPython.display import display\n",
    "import seaborn as sns\n",
    "import matplotlib.pyplot as plt\n",
    "pd.options.display.float_format = '{:,.4f}'.format\n",
    "sns.set_context(\"paper\", font_scale= 1.5)\n",
    "plt.rcParams['axes.spines.right']= False\n",
    "plt.rcParams['axes.spines.top']= False\n",
    "plotsize = (13, 5)\n",
    "plt.rcParams['figure.figsize']= plotsize"
   ]
  },
  {
   "cell_type": "code",
   "execution_count": 2,
   "id": "ab4668b9-a4e5-4bd9-91a3-1d11fe3eb773",
   "metadata": {},
   "outputs": [
    {
     "data": {
      "text/html": [
       "<div>\n",
       "<style scoped>\n",
       "    .dataframe tbody tr th:only-of-type {\n",
       "        vertical-align: middle;\n",
       "    }\n",
       "\n",
       "    .dataframe tbody tr th {\n",
       "        vertical-align: top;\n",
       "    }\n",
       "\n",
       "    .dataframe thead th {\n",
       "        text-align: right;\n",
       "    }\n",
       "</style>\n",
       "<table border=\"1\" class=\"dataframe\">\n",
       "  <thead>\n",
       "    <tr style=\"text-align: right;\">\n",
       "      <th></th>\n",
       "      <th>original</th>\n",
       "      <th>squared</th>\n",
       "    </tr>\n",
       "  </thead>\n",
       "  <tbody>\n",
       "    <tr>\n",
       "      <th>0</th>\n",
       "      <td>1</td>\n",
       "      <td>1</td>\n",
       "    </tr>\n",
       "    <tr>\n",
       "      <th>1</th>\n",
       "      <td>2</td>\n",
       "      <td>4</td>\n",
       "    </tr>\n",
       "    <tr>\n",
       "      <th>2</th>\n",
       "      <td>3</td>\n",
       "      <td>9</td>\n",
       "    </tr>\n",
       "    <tr>\n",
       "      <th>3</th>\n",
       "      <td>4</td>\n",
       "      <td>16</td>\n",
       "    </tr>\n",
       "    <tr>\n",
       "      <th>4</th>\n",
       "      <td>5</td>\n",
       "      <td>25</td>\n",
       "    </tr>\n",
       "    <tr>\n",
       "      <th>5</th>\n",
       "      <td>6</td>\n",
       "      <td>36</td>\n",
       "    </tr>\n",
       "    <tr>\n",
       "      <th>6</th>\n",
       "      <td>7</td>\n",
       "      <td>49</td>\n",
       "    </tr>\n",
       "    <tr>\n",
       "      <th>7</th>\n",
       "      <td>8</td>\n",
       "      <td>64</td>\n",
       "    </tr>\n",
       "    <tr>\n",
       "      <th>8</th>\n",
       "      <td>9</td>\n",
       "      <td>81</td>\n",
       "    </tr>\n",
       "    <tr>\n",
       "      <th>9</th>\n",
       "      <td>10</td>\n",
       "      <td>100</td>\n",
       "    </tr>\n",
       "  </tbody>\n",
       "</table>\n",
       "</div>"
      ],
      "text/plain": [
       "   original  squared\n",
       "0         1        1\n",
       "1         2        4\n",
       "2         3        9\n",
       "3         4       16\n",
       "4         5       25\n",
       "5         6       36\n",
       "6         7       49\n",
       "7         8       64\n",
       "8         9       81\n",
       "9        10      100"
      ]
     },
     "execution_count": 2,
     "metadata": {},
     "output_type": "execute_result"
    }
   ],
   "source": [
    "play= pd.DataFrame([[i for i in range(1,11)], [i**2 for i in range(1,11)]]).T\n",
    "play.columns = [\"original\", \"squared\"]\n",
    "play"
   ]
  },
  {
   "cell_type": "code",
   "execution_count": 3,
   "id": "1b0b3d5b-ece2-488f-92e7-b60f73cab53c",
   "metadata": {},
   "outputs": [
    {
     "data": {
      "text/plain": [
       "0      NaN\n",
       "1   1.0000\n",
       "2   1.0000\n",
       "3   1.0000\n",
       "4   1.0000\n",
       "5   1.0000\n",
       "6   1.0000\n",
       "7   1.0000\n",
       "8   1.0000\n",
       "9   1.0000\n",
       "Name: original, dtype: float64"
      ]
     },
     "execution_count": 3,
     "metadata": {},
     "output_type": "execute_result"
    }
   ],
   "source": [
    "play.original.diff()"
   ]
  },
  {
   "cell_type": "code",
   "execution_count": 4,
   "id": "c9bd9093-8aa6-416e-a4c8-01f6fce72b7e",
   "metadata": {},
   "outputs": [
    {
     "data": {
      "image/png": "[encoded data removed]",
      "text/plain": [
       "<Figure size 1296x360 with 3 Axes>"
      ]
     },
     "metadata": {
      "needs_background": "light"
     },
     "output_type": "display_data"
    }
   ],
   "source": [
    "fig, axes = plt.subplots(1,3, figsize= (18,5))\n",
    "\n",
    "axes[0].plot(play.squared)\n",
    "axes[0].set_title(\"Squared\")\n",
    "axes[1].plot(play.squared.diff())\n",
    "axes[1].set_title(\"First diff\")\n",
    "axes[2].plot(play.squared.diff().diff())\n",
    "axes[2].set_title(\"Second diff\")\n",
    "\n",
    "plt.show()"
   ]
  },
  {
   "cell_type": "code",
   "execution_count": 5,
   "id": "c85c07f7-8832-4d14-b5a3-8a643d544eeb",
   "metadata": {},
   "outputs": [
    {
     "data": {
      "text/plain": [
       "0      NaN\n",
       "1      NaN\n",
       "2   2.0000\n",
       "3   2.0000\n",
       "4   2.0000\n",
       "5   2.0000\n",
       "6   2.0000\n",
       "7   2.0000\n",
       "8   2.0000\n",
       "9   2.0000\n",
       "Name: squared, dtype: float64"
      ]
     },
     "execution_count": 5,
     "metadata": {},
     "output_type": "execute_result"
    }
   ],
   "source": [
    "play.squared.diff().diff()"
   ]
  },
  {
   "cell_type": "code",
   "execution_count": null,
   "id": "3b82d492-22e0-49e3-b938-21bb35919b9d",
   "metadata": {},
   "outputs": [],
   "source": []
  }
 ],
 "metadata": {
  "kernelspec": {
   "display_name": "Python 3 (ipykernel)",
   "language": "python",
   "name": "python3"
  },
  "language_info": {
   "codemirror_mode": {
    "name": "ipython",
    "version": 3
   },
   "file_extension": ".py",
   "mimetype": "text/x-python",
   "name": "python",
   "nbconvert_exporter": "python",
   "pygments_lexer": "ipython3",
   "version": "3.8.12"
  }
 },
 "nbformat": 4,
 "nbformat_minor": 5
}
