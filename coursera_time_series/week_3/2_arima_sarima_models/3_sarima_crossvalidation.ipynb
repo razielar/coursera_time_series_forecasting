{
 "cells": [
  {
   "cell_type": "markdown",
   "id": "6c6aaecf-6faf-453c-8787-68df5b615fb3",
   "metadata": {},
   "source": [
    "# SARIMA Cross-validation and GridSearch\n",
    "Feb 28th 2022"
   ]
  },
  {
   "cell_type": "code",
   "execution_count": 2,
   "id": "f74bc5e0-cfce-46d3-9e96-ead4137880f0",
   "metadata": {},
   "outputs": [
    {
     "name": "stdout",
     "output_type": "stream",
     "text": [
      "/home/razielar/miniconda3/envs/time-series/bin/python\n",
      "/home/razielar/Documents/git_rep/Machine_learning/time_series_forecasting/coursera_time_series/week_3/2_arima_sarima_models\n"
     ]
    }
   ],
   "source": [
    "import sys\n",
    "print(sys.executable)\n",
    "import numpy as np\n",
    "import pandas as pd\n",
    "import os\n",
    "print(os.getcwd())\n",
    "from IPython.display import display\n",
    "import seaborn as sns\n",
    "import matplotlib.pyplot as plt\n",
    "import statsmodels.api as sm\n",
    "from statsmodels.tsa.statespace.sarimax import SARIMAX\n",
    "import src.colorsetup"
   ]
  },
  {
   "cell_type": "code",
   "execution_count": null,
   "id": "2044144c-c18f-4555-bdc4-ad23b767b393",
   "metadata": {},
   "outputs": [],
   "source": []
  },
  {
   "cell_type": "code",
   "execution_count": null,
   "id": "bc93fffb-0260-4e24-886c-0b49caaf10ea",
   "metadata": {},
   "outputs": [],
   "source": []
  },
  {
   "cell_type": "code",
   "execution_count": null,
   "id": "5646fd0e-e1c8-4eb6-9082-7e4a700bd53c",
   "metadata": {},
   "outputs": [],
   "source": []
  }
 ],
 "metadata": {
  "kernelspec": {
   "display_name": "Python 3 (ipykernel)",
   "language": "python",
   "name": "python3"
  },
  "language_info": {
   "codemirror_mode": {
    "name": "ipython",
    "version": 3
   },
   "file_extension": ".py",
   "mimetype": "text/x-python",
   "name": "python",
   "nbconvert_exporter": "python",
   "pygments_lexer": "ipython3",
   "version": "3.8.12"
  }
 },
 "nbformat": 4,
 "nbformat_minor": 5
}
