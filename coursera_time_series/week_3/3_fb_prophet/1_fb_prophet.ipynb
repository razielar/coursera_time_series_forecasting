{
 "cells": [
  {
   "cell_type": "markdown",
   "id": "655a8bc9-815b-4cea-bb4d-cbbd7fe6efca",
   "metadata": {},
   "source": [
    "# Facebook Prophet\n",
    "March 1st 2022"
   ]
  },
  {
   "cell_type": "code",
   "execution_count": null,
   "id": "19de2cb8-3fd6-42b9-8b0e-1cd748657f78",
   "metadata": {},
   "outputs": [],
   "source": []
  },
  {
   "cell_type": "code",
   "execution_count": null,
   "id": "69345778-1651-4b89-9cef-60e2557f0871",
   "metadata": {},
   "outputs": [],
   "source": []
  },
  {
   "cell_type": "code",
   "execution_count": null,
   "id": "04e982a4-458b-4a4e-a3d0-0f70c3522a19",
   "metadata": {},
   "outputs": [],
   "source": []
  },
  {
   "cell_type": "code",
   "execution_count": null,
   "id": "ad1660f9-0eed-4f08-bb21-efb63dc62af7",
   "metadata": {},
   "outputs": [],
   "source": []
  }
 ],
 "metadata": {
  "kernelspec": {
   "display_name": "Python 3 (ipykernel)",
   "language": "python",
   "name": "python3"
  },
  "language_info": {
   "codemirror_mode": {
    "name": "ipython",
    "version": 3
   },
   "file_extension": ".py",
   "mimetype": "text/x-python",
   "name": "python",
   "nbconvert_exporter": "python",
   "pygments_lexer": "ipython3",
   "version": "3.8.12"
  }
 },
 "nbformat": 4,
 "nbformat_minor": 5
}
